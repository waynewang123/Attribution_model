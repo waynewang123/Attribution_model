{
 "cells": [
  {
   "cell_type": "code",
   "execution_count": 75,
   "metadata": {},
   "outputs": [],
   "source": [
    "import pandas as pd\n",
    "import numpy as np\n",
    "from collections import defaultdict\n",
    "import itertools\n",
    "from itertools import permutations,combinations\n",
    "pd.set_option('max_row',None)\n",
    "pd.set_option('max_columns',None)"
   ]
  },
  {
   "cell_type": "markdown",
   "metadata": {},
   "source": [
    "## Markov chain"
   ]
  },
  {
   "cell_type": "code",
   "execution_count": 14,
   "metadata": {},
   "outputs": [],
   "source": [
    "df = pd.read_csv('attribution data.csv')"
   ]
  },
  {
   "cell_type": "code",
   "execution_count": 15,
   "metadata": {},
   "outputs": [
    {
     "data": {
      "text/html": [
       "<div>\n",
       "<style scoped>\n",
       "    .dataframe tbody tr th:only-of-type {\n",
       "        vertical-align: middle;\n",
       "    }\n",
       "\n",
       "    .dataframe tbody tr th {\n",
       "        vertical-align: top;\n",
       "    }\n",
       "\n",
       "    .dataframe thead th {\n",
       "        text-align: right;\n",
       "    }\n",
       "</style>\n",
       "<table border=\"1\" class=\"dataframe\">\n",
       "  <thead>\n",
       "    <tr style=\"text-align: right;\">\n",
       "      <th></th>\n",
       "      <th>cookie</th>\n",
       "      <th>time</th>\n",
       "      <th>interaction</th>\n",
       "      <th>conversion</th>\n",
       "      <th>conversion_value</th>\n",
       "      <th>channel</th>\n",
       "    </tr>\n",
       "  </thead>\n",
       "  <tbody>\n",
       "    <tr>\n",
       "      <th>0</th>\n",
       "      <td>00000FkCnDfDDf0iC97iC703B</td>\n",
       "      <td>2018-07-03T13:02:11Z</td>\n",
       "      <td>impression</td>\n",
       "      <td>0</td>\n",
       "      <td>0.0</td>\n",
       "      <td>Instagram</td>\n",
       "    </tr>\n",
       "    <tr>\n",
       "      <th>1</th>\n",
       "      <td>00000FkCnDfDDf0iC97iC703B</td>\n",
       "      <td>2018-07-17T19:15:07Z</td>\n",
       "      <td>impression</td>\n",
       "      <td>0</td>\n",
       "      <td>0.0</td>\n",
       "      <td>Online Display</td>\n",
       "    </tr>\n",
       "    <tr>\n",
       "      <th>2</th>\n",
       "      <td>00000FkCnDfDDf0iC97iC703B</td>\n",
       "      <td>2018-07-24T15:51:46Z</td>\n",
       "      <td>impression</td>\n",
       "      <td>0</td>\n",
       "      <td>0.0</td>\n",
       "      <td>Online Display</td>\n",
       "    </tr>\n",
       "    <tr>\n",
       "      <th>3</th>\n",
       "      <td>00000FkCnDfDDf0iC97iC703B</td>\n",
       "      <td>2018-07-29T07:44:51Z</td>\n",
       "      <td>impression</td>\n",
       "      <td>0</td>\n",
       "      <td>0.0</td>\n",
       "      <td>Online Display</td>\n",
       "    </tr>\n",
       "    <tr>\n",
       "      <th>4</th>\n",
       "      <td>0000nACkD9nFkBBDECD3ki00E</td>\n",
       "      <td>2018-07-03T09:44:57Z</td>\n",
       "      <td>impression</td>\n",
       "      <td>0</td>\n",
       "      <td>0.0</td>\n",
       "      <td>Paid Search</td>\n",
       "    </tr>\n",
       "  </tbody>\n",
       "</table>\n",
       "</div>"
      ],
      "text/plain": [
       "                      cookie                  time interaction  conversion  \\\n",
       "0  00000FkCnDfDDf0iC97iC703B  2018-07-03T13:02:11Z  impression           0   \n",
       "1  00000FkCnDfDDf0iC97iC703B  2018-07-17T19:15:07Z  impression           0   \n",
       "2  00000FkCnDfDDf0iC97iC703B  2018-07-24T15:51:46Z  impression           0   \n",
       "3  00000FkCnDfDDf0iC97iC703B  2018-07-29T07:44:51Z  impression           0   \n",
       "4  0000nACkD9nFkBBDECD3ki00E  2018-07-03T09:44:57Z  impression           0   \n",
       "\n",
       "   conversion_value         channel  \n",
       "0               0.0       Instagram  \n",
       "1               0.0  Online Display  \n",
       "2               0.0  Online Display  \n",
       "3               0.0  Online Display  \n",
       "4               0.0     Paid Search  "
      ]
     },
     "execution_count": 15,
     "metadata": {},
     "output_type": "execute_result"
    }
   ],
   "source": [
    "df.head()"
   ]
  },
  {
   "cell_type": "code",
   "execution_count": 54,
   "metadata": {},
   "outputs": [],
   "source": [
    "def preprocess(df):\n",
    "    df = df.sort_values(['cookie', 'time'],\n",
    "                    ascending=[False, True])\n",
    "    df['visit_order'] = df.groupby('cookie').cumcount() + 1\n",
    "    df_paths = df.groupby('cookie')['channel'].aggregate(lambda x: x.tolist()).reset_index()\n",
    "    df_last_interaction = df.drop_duplicates('cookie', keep='last')[['cookie', 'conversion']]\n",
    "    df_paths = pd.merge(df_paths, df_last_interaction, how='left', on='cookie')\n",
    "    df_paths['path'] = df_paths['channel'].apply(lambda x: \">>>\".join(x))\n",
    "    return df_paths\n",
    "    "
   ]
  },
  {
   "cell_type": "code",
   "execution_count": 16,
   "metadata": {},
   "outputs": [],
   "source": [
    "df = df.sort_values(['cookie', 'time'],\n",
    "                    ascending=[False, True])\n",
    "\n",
    "df['visit_order'] = df.groupby('cookie').cumcount() + 1\n",
    "df_paths = df.groupby('cookie')['channel'].aggregate(\n",
    "    lambda x: x.tolist()).reset_index()\n",
    "\n",
    "df_last_interaction = df.drop_duplicates('cookie', keep='last')[['cookie', 'conversion']]\n",
    "df_paths = pd.merge(df_paths, df_last_interaction, how='left', on='cookie')\n",
    "\n",
    "#df_paths['conversion'] = df_paths['conversion'].map({0:'Null',1:'Conversion'})"
   ]
  },
  {
   "cell_type": "code",
   "execution_count": 17,
   "metadata": {},
   "outputs": [
    {
     "data": {
      "text/html": [
       "<div>\n",
       "<style scoped>\n",
       "    .dataframe tbody tr th:only-of-type {\n",
       "        vertical-align: middle;\n",
       "    }\n",
       "\n",
       "    .dataframe tbody tr th {\n",
       "        vertical-align: top;\n",
       "    }\n",
       "\n",
       "    .dataframe thead th {\n",
       "        text-align: right;\n",
       "    }\n",
       "</style>\n",
       "<table border=\"1\" class=\"dataframe\">\n",
       "  <thead>\n",
       "    <tr style=\"text-align: right;\">\n",
       "      <th></th>\n",
       "      <th>cookie</th>\n",
       "      <th>channel</th>\n",
       "      <th>conversion</th>\n",
       "    </tr>\n",
       "  </thead>\n",
       "  <tbody>\n",
       "    <tr>\n",
       "      <th>0</th>\n",
       "      <td>00000FkCnDfDDf0iC97iC703B</td>\n",
       "      <td>[Instagram, Online Display, Online Display, On...</td>\n",
       "      <td>0</td>\n",
       "    </tr>\n",
       "    <tr>\n",
       "      <th>1</th>\n",
       "      <td>0000nACkD9nFkBBDECD3ki00E</td>\n",
       "      <td>[Paid Search, Paid Search, Paid Search, Paid S...</td>\n",
       "      <td>0</td>\n",
       "    </tr>\n",
       "    <tr>\n",
       "      <th>2</th>\n",
       "      <td>0003EfE37E93D0BC03iBhBBhF</td>\n",
       "      <td>[Paid Search, Paid Search, Paid Search, Paid S...</td>\n",
       "      <td>0</td>\n",
       "    </tr>\n",
       "    <tr>\n",
       "      <th>3</th>\n",
       "      <td>00073CFE3FoFCn70fBhB3kfon</td>\n",
       "      <td>[Instagram]</td>\n",
       "      <td>0</td>\n",
       "    </tr>\n",
       "    <tr>\n",
       "      <th>4</th>\n",
       "      <td>00079hhBkDF3k3kDkiFi9EFAD</td>\n",
       "      <td>[Paid Search]</td>\n",
       "      <td>0</td>\n",
       "    </tr>\n",
       "  </tbody>\n",
       "</table>\n",
       "</div>"
      ],
      "text/plain": [
       "                      cookie  \\\n",
       "0  00000FkCnDfDDf0iC97iC703B   \n",
       "1  0000nACkD9nFkBBDECD3ki00E   \n",
       "2  0003EfE37E93D0BC03iBhBBhF   \n",
       "3  00073CFE3FoFCn70fBhB3kfon   \n",
       "4  00079hhBkDF3k3kDkiFi9EFAD   \n",
       "\n",
       "                                             channel  conversion  \n",
       "0  [Instagram, Online Display, Online Display, On...           0  \n",
       "1  [Paid Search, Paid Search, Paid Search, Paid S...           0  \n",
       "2  [Paid Search, Paid Search, Paid Search, Paid S...           0  \n",
       "3                                        [Instagram]           0  \n",
       "4                                      [Paid Search]           0  "
      ]
     },
     "execution_count": 17,
     "metadata": {},
     "output_type": "execute_result"
    }
   ],
   "source": [
    "df_paths.head()"
   ]
  },
  {
   "cell_type": "code",
   "execution_count": 18,
   "metadata": {},
   "outputs": [
    {
     "data": {
      "text/plain": [
       "0    222469\n",
       "1     17639\n",
       "Name: conversion, dtype: int64"
      ]
     },
     "execution_count": 18,
     "metadata": {},
     "output_type": "execute_result"
    }
   ],
   "source": [
    "df_paths.conversion.value_counts()"
   ]
  },
  {
   "cell_type": "code",
   "execution_count": 19,
   "metadata": {},
   "outputs": [],
   "source": [
    "df_paths['path'] = df_paths['channel'].apply(lambda x: \">>>\".join(x))"
   ]
  },
  {
   "cell_type": "code",
   "execution_count": 20,
   "metadata": {},
   "outputs": [
    {
     "data": {
      "text/html": [
       "<div>\n",
       "<style scoped>\n",
       "    .dataframe tbody tr th:only-of-type {\n",
       "        vertical-align: middle;\n",
       "    }\n",
       "\n",
       "    .dataframe tbody tr th {\n",
       "        vertical-align: top;\n",
       "    }\n",
       "\n",
       "    .dataframe thead th {\n",
       "        text-align: right;\n",
       "    }\n",
       "</style>\n",
       "<table border=\"1\" class=\"dataframe\">\n",
       "  <thead>\n",
       "    <tr style=\"text-align: right;\">\n",
       "      <th></th>\n",
       "      <th>cookie</th>\n",
       "      <th>channel</th>\n",
       "      <th>conversion</th>\n",
       "      <th>path</th>\n",
       "    </tr>\n",
       "  </thead>\n",
       "  <tbody>\n",
       "    <tr>\n",
       "      <th>0</th>\n",
       "      <td>00000FkCnDfDDf0iC97iC703B</td>\n",
       "      <td>[Instagram, Online Display, Online Display, On...</td>\n",
       "      <td>0</td>\n",
       "      <td>Instagram&gt;&gt;&gt;Online Display&gt;&gt;&gt;Online Display&gt;&gt;&gt;...</td>\n",
       "    </tr>\n",
       "    <tr>\n",
       "      <th>1</th>\n",
       "      <td>0000nACkD9nFkBBDECD3ki00E</td>\n",
       "      <td>[Paid Search, Paid Search, Paid Search, Paid S...</td>\n",
       "      <td>0</td>\n",
       "      <td>Paid Search&gt;&gt;&gt;Paid Search&gt;&gt;&gt;Paid Search&gt;&gt;&gt;Paid...</td>\n",
       "    </tr>\n",
       "    <tr>\n",
       "      <th>2</th>\n",
       "      <td>0003EfE37E93D0BC03iBhBBhF</td>\n",
       "      <td>[Paid Search, Paid Search, Paid Search, Paid S...</td>\n",
       "      <td>0</td>\n",
       "      <td>Paid Search&gt;&gt;&gt;Paid Search&gt;&gt;&gt;Paid Search&gt;&gt;&gt;Paid...</td>\n",
       "    </tr>\n",
       "    <tr>\n",
       "      <th>3</th>\n",
       "      <td>00073CFE3FoFCn70fBhB3kfon</td>\n",
       "      <td>[Instagram]</td>\n",
       "      <td>0</td>\n",
       "      <td>Instagram</td>\n",
       "    </tr>\n",
       "    <tr>\n",
       "      <th>4</th>\n",
       "      <td>00079hhBkDF3k3kDkiFi9EFAD</td>\n",
       "      <td>[Paid Search]</td>\n",
       "      <td>0</td>\n",
       "      <td>Paid Search</td>\n",
       "    </tr>\n",
       "  </tbody>\n",
       "</table>\n",
       "</div>"
      ],
      "text/plain": [
       "                      cookie  \\\n",
       "0  00000FkCnDfDDf0iC97iC703B   \n",
       "1  0000nACkD9nFkBBDECD3ki00E   \n",
       "2  0003EfE37E93D0BC03iBhBBhF   \n",
       "3  00073CFE3FoFCn70fBhB3kfon   \n",
       "4  00079hhBkDF3k3kDkiFi9EFAD   \n",
       "\n",
       "                                             channel  conversion  \\\n",
       "0  [Instagram, Online Display, Online Display, On...           0   \n",
       "1  [Paid Search, Paid Search, Paid Search, Paid S...           0   \n",
       "2  [Paid Search, Paid Search, Paid Search, Paid S...           0   \n",
       "3                                        [Instagram]           0   \n",
       "4                                      [Paid Search]           0   \n",
       "\n",
       "                                                path  \n",
       "0  Instagram>>>Online Display>>>Online Display>>>...  \n",
       "1  Paid Search>>>Paid Search>>>Paid Search>>>Paid...  \n",
       "2  Paid Search>>>Paid Search>>>Paid Search>>>Paid...  \n",
       "3                                          Instagram  \n",
       "4                                        Paid Search  "
      ]
     },
     "execution_count": 20,
     "metadata": {},
     "output_type": "execute_result"
    }
   ],
   "source": [
    "df_paths.head()"
   ]
  },
  {
   "cell_type": "code",
   "execution_count": 35,
   "metadata": {},
   "outputs": [
    {
     "data": {
      "text/plain": [
       "<pychattr.channel_attribution.markov.MarkovModel at 0x7fae98ee1610>"
      ]
     },
     "execution_count": 35,
     "metadata": {},
     "output_type": "execute_result"
    }
   ],
   "source": [
    "##现成的markov chain package\n",
    "import pandas as pd\n",
    "from pychattr.channel_attribution import MarkovModel\n",
    "\n",
    "data = {\n",
    "    \"path\": df_paths.path.values.tolist(),\n",
    "    \"conversion\": df_paths.conversion.values.tolist() ,\n",
    "#     \"revenue\": [0, 1, 0, 1, 1],\n",
    "#     \"cost\": [0, 1, 0, 1, 1]\n",
    "}\n",
    "\n",
    "df = pd.DataFrame(data)\n",
    "\n",
    "path_feature= 'path'\n",
    "conversion_feature=\"conversion\"\n",
    "null_feature=None\n",
    "#revenue_feature=\"revenue\"\n",
    "#cost_feature=\"cost\"\n",
    "separator=\">>>\"\n",
    "k_order=1\n",
    "n_simulations=10000\n",
    "max_steps=None\n",
    "return_transition_probs=True\n",
    "random_state=26\n",
    "\n",
    "# instantiate the model\n",
    "mm = MarkovModel(path_feature=path_feature,\n",
    "                 conversion_feature=conversion_feature,\n",
    "                 null_feature=null_feature,\n",
    "                 #revenue_feature=revenue_feature,\n",
    "                 #cost_feature=cost_feature,\n",
    "                 separator=separator,\n",
    "                 k_order=k_order,\n",
    "                 n_simulations=n_simulations,\n",
    "                 max_steps=max_steps,\n",
    "                 return_transition_probs=return_transition_probs,\n",
    "                 random_state=random_state)\n",
    "\n",
    "# fit the model\n",
    "mm.fit(df)"
   ]
  },
  {
   "cell_type": "code",
   "execution_count": 36,
   "metadata": {},
   "outputs": [
    {
     "data": {
      "text/html": [
       "<div>\n",
       "<style scoped>\n",
       "    .dataframe tbody tr th:only-of-type {\n",
       "        vertical-align: middle;\n",
       "    }\n",
       "\n",
       "    .dataframe tbody tr th {\n",
       "        vertical-align: top;\n",
       "    }\n",
       "\n",
       "    .dataframe thead th {\n",
       "        text-align: right;\n",
       "    }\n",
       "</style>\n",
       "<table border=\"1\" class=\"dataframe\">\n",
       "  <thead>\n",
       "    <tr style=\"text-align: right;\">\n",
       "      <th></th>\n",
       "      <th>path</th>\n",
       "      <th>conversion</th>\n",
       "    </tr>\n",
       "  </thead>\n",
       "  <tbody>\n",
       "    <tr>\n",
       "      <th>0</th>\n",
       "      <td>Instagram&gt;&gt;&gt;Online Display&gt;&gt;&gt;Online Display&gt;&gt;&gt;...</td>\n",
       "      <td>0</td>\n",
       "    </tr>\n",
       "    <tr>\n",
       "      <th>1</th>\n",
       "      <td>Paid Search&gt;&gt;&gt;Paid Search&gt;&gt;&gt;Paid Search&gt;&gt;&gt;Paid...</td>\n",
       "      <td>0</td>\n",
       "    </tr>\n",
       "    <tr>\n",
       "      <th>2</th>\n",
       "      <td>Paid Search&gt;&gt;&gt;Paid Search&gt;&gt;&gt;Paid Search&gt;&gt;&gt;Paid...</td>\n",
       "      <td>0</td>\n",
       "    </tr>\n",
       "    <tr>\n",
       "      <th>3</th>\n",
       "      <td>Instagram</td>\n",
       "      <td>0</td>\n",
       "    </tr>\n",
       "    <tr>\n",
       "      <th>4</th>\n",
       "      <td>Paid Search</td>\n",
       "      <td>0</td>\n",
       "    </tr>\n",
       "  </tbody>\n",
       "</table>\n",
       "</div>"
      ],
      "text/plain": [
       "                                                path  conversion\n",
       "0  Instagram>>>Online Display>>>Online Display>>>...           0\n",
       "1  Paid Search>>>Paid Search>>>Paid Search>>>Paid...           0\n",
       "2  Paid Search>>>Paid Search>>>Paid Search>>>Paid...           0\n",
       "3                                          Instagram           0\n",
       "4                                        Paid Search           0"
      ]
     },
     "execution_count": 36,
     "metadata": {},
     "output_type": "execute_result"
    }
   ],
   "source": [
    "df.head()"
   ]
  },
  {
   "cell_type": "code",
   "execution_count": 38,
   "metadata": {},
   "outputs": [
    {
     "data": {
      "text/plain": [
       "0    222469\n",
       "1     17639\n",
       "Name: conversion, dtype: int64"
      ]
     },
     "execution_count": 38,
     "metadata": {},
     "output_type": "execute_result"
    }
   ],
   "source": [
    "df.conversion.value_counts()"
   ]
  },
  {
   "cell_type": "code",
   "execution_count": 39,
   "metadata": {},
   "outputs": [
    {
     "name": "stdout",
     "output_type": "stream",
     "text": [
      "     channel_name  total_conversions\n",
      "0       Instagram        3488.292950\n",
      "1  Online Display        2007.900929\n",
      "2     Paid Search        3967.540405\n",
      "3        Facebook        5269.477284\n",
      "4    Online Video        2905.788432\n"
     ]
    }
   ],
   "source": [
    "# view the simulation results\n",
    "print(mm.attribution_model_)"
   ]
  },
  {
   "cell_type": "code",
   "execution_count": 40,
   "metadata": {},
   "outputs": [
    {
     "name": "stdout",
     "output_type": "stream",
     "text": [
      "      channel_from      channel_to  transition_probability\n",
      "0          (start)     Paid Search                0.269686\n",
      "1          (start)        Facebook                0.293497\n",
      "2          (start)    Online Video                0.182323\n",
      "3          (start)       Instagram                0.132037\n",
      "4          (start)  Online Display                0.122456\n",
      "5        Instagram    Online Video                0.027192\n",
      "6        Instagram        Facebook                0.475483\n",
      "7        Instagram    (conversion)                0.245058\n",
      "8        Instagram       Instagram                0.204980\n",
      "9        Instagram     Paid Search                0.030141\n",
      "10       Instagram  Online Display                0.017145\n",
      "11  Online Display    (conversion)                0.397584\n",
      "12  Online Display  Online Display                0.393123\n",
      "13  Online Display       Instagram                0.028067\n",
      "14  Online Display     Paid Search                0.097212\n",
      "15  Online Display    Online Video                0.024164\n",
      "16  Online Display        Facebook                0.059851\n",
      "17     Paid Search    (conversion)                0.400899\n",
      "18     Paid Search     Paid Search                0.423558\n",
      "19     Paid Search    Online Video                0.035796\n",
      "20     Paid Search  Online Display                0.047258\n",
      "21     Paid Search       Instagram                0.026274\n",
      "22     Paid Search        Facebook                0.066214\n",
      "23        Facebook    (conversion)                0.246972\n",
      "24        Facebook        Facebook                0.481830\n",
      "25        Facebook       Instagram                0.199264\n",
      "26        Facebook    Online Video                0.027162\n",
      "27        Facebook  Online Display                0.014117\n",
      "28        Facebook     Paid Search                0.030656\n",
      "29    Online Video    Online Video                0.731977\n",
      "30    Online Video       Instagram                0.013156\n",
      "31    Online Video    (conversion)                0.199263\n",
      "32    Online Video     Paid Search                0.018944\n",
      "33    Online Video  Online Display                0.006373\n",
      "34    Online Video        Facebook                0.030287\n"
     ]
    }
   ],
   "source": [
    "# view the transition matrix\n",
    "print(mm.transition_matrix_)"
   ]
  },
  {
   "cell_type": "code",
   "execution_count": 41,
   "metadata": {},
   "outputs": [
    {
     "name": "stdout",
     "output_type": "stream",
     "text": [
      "     channel_name  removal_effect\n",
      "0       Instagram          0.3108\n",
      "1  Online Display          0.1789\n",
      "2     Paid Search          0.3535\n",
      "3        Facebook          0.4695\n",
      "4    Online Video          0.2589\n"
     ]
    }
   ],
   "source": [
    "# view the removal effects\n",
    "print(mm.removal_effects_)"
   ]
  },
  {
   "cell_type": "markdown",
   "metadata": {},
   "source": [
    "## Shapley value"
   ]
  },
  {
   "cell_type": "code",
   "execution_count": 47,
   "metadata": {},
   "outputs": [],
   "source": [
    "raw = pd.read_csv('attribution data.csv')"
   ]
  },
  {
   "cell_type": "code",
   "execution_count": 48,
   "metadata": {},
   "outputs": [
    {
     "data": {
      "text/html": [
       "<div>\n",
       "<style scoped>\n",
       "    .dataframe tbody tr th:only-of-type {\n",
       "        vertical-align: middle;\n",
       "    }\n",
       "\n",
       "    .dataframe tbody tr th {\n",
       "        vertical-align: top;\n",
       "    }\n",
       "\n",
       "    .dataframe thead th {\n",
       "        text-align: right;\n",
       "    }\n",
       "</style>\n",
       "<table border=\"1\" class=\"dataframe\">\n",
       "  <thead>\n",
       "    <tr style=\"text-align: right;\">\n",
       "      <th></th>\n",
       "      <th>cookie</th>\n",
       "      <th>time</th>\n",
       "      <th>interaction</th>\n",
       "      <th>conversion</th>\n",
       "      <th>conversion_value</th>\n",
       "      <th>channel</th>\n",
       "    </tr>\n",
       "  </thead>\n",
       "  <tbody>\n",
       "    <tr>\n",
       "      <th>0</th>\n",
       "      <td>00000FkCnDfDDf0iC97iC703B</td>\n",
       "      <td>2018-07-03T13:02:11Z</td>\n",
       "      <td>impression</td>\n",
       "      <td>0</td>\n",
       "      <td>0.0</td>\n",
       "      <td>Instagram</td>\n",
       "    </tr>\n",
       "    <tr>\n",
       "      <th>1</th>\n",
       "      <td>00000FkCnDfDDf0iC97iC703B</td>\n",
       "      <td>2018-07-17T19:15:07Z</td>\n",
       "      <td>impression</td>\n",
       "      <td>0</td>\n",
       "      <td>0.0</td>\n",
       "      <td>Online Display</td>\n",
       "    </tr>\n",
       "    <tr>\n",
       "      <th>2</th>\n",
       "      <td>00000FkCnDfDDf0iC97iC703B</td>\n",
       "      <td>2018-07-24T15:51:46Z</td>\n",
       "      <td>impression</td>\n",
       "      <td>0</td>\n",
       "      <td>0.0</td>\n",
       "      <td>Online Display</td>\n",
       "    </tr>\n",
       "    <tr>\n",
       "      <th>3</th>\n",
       "      <td>00000FkCnDfDDf0iC97iC703B</td>\n",
       "      <td>2018-07-29T07:44:51Z</td>\n",
       "      <td>impression</td>\n",
       "      <td>0</td>\n",
       "      <td>0.0</td>\n",
       "      <td>Online Display</td>\n",
       "    </tr>\n",
       "    <tr>\n",
       "      <th>4</th>\n",
       "      <td>0000nACkD9nFkBBDECD3ki00E</td>\n",
       "      <td>2018-07-03T09:44:57Z</td>\n",
       "      <td>impression</td>\n",
       "      <td>0</td>\n",
       "      <td>0.0</td>\n",
       "      <td>Paid Search</td>\n",
       "    </tr>\n",
       "  </tbody>\n",
       "</table>\n",
       "</div>"
      ],
      "text/plain": [
       "                      cookie                  time interaction  conversion  \\\n",
       "0  00000FkCnDfDDf0iC97iC703B  2018-07-03T13:02:11Z  impression           0   \n",
       "1  00000FkCnDfDDf0iC97iC703B  2018-07-17T19:15:07Z  impression           0   \n",
       "2  00000FkCnDfDDf0iC97iC703B  2018-07-24T15:51:46Z  impression           0   \n",
       "3  00000FkCnDfDDf0iC97iC703B  2018-07-29T07:44:51Z  impression           0   \n",
       "4  0000nACkD9nFkBBDECD3ki00E  2018-07-03T09:44:57Z  impression           0   \n",
       "\n",
       "   conversion_value         channel  \n",
       "0               0.0       Instagram  \n",
       "1               0.0  Online Display  \n",
       "2               0.0  Online Display  \n",
       "3               0.0  Online Display  \n",
       "4               0.0     Paid Search  "
      ]
     },
     "execution_count": 48,
     "metadata": {},
     "output_type": "execute_result"
    }
   ],
   "source": [
    "raw.head()"
   ]
  },
  {
   "cell_type": "code",
   "execution_count": 80,
   "metadata": {},
   "outputs": [],
   "source": [
    "def preprocess_shapley(df):\n",
    "    df = df.sort_values(['cookie', 'time'],\n",
    "                    ascending=[False, True])\n",
    "    df['visit_order'] = df.groupby('cookie').cumcount() + 1\n",
    "    df_paths = df.groupby('cookie')['channel'].aggregate(lambda x: x.unique().tolist()).reset_index()\n",
    "    df_last_interaction = df.drop_duplicates('cookie', keep='last')[['cookie', 'conversion']]\n",
    "    df_paths = pd.merge(df_paths, df_last_interaction, how='left', on='cookie')\n",
    "    df_paths['path'] = df_paths['channel'].apply(lambda x: \">>>\".join(x))\n",
    "    return df_paths"
   ]
  },
  {
   "cell_type": "code",
   "execution_count": 81,
   "metadata": {},
   "outputs": [],
   "source": [
    "processed = preprocess_shapley(raw)"
   ]
  },
  {
   "cell_type": "code",
   "execution_count": 82,
   "metadata": {},
   "outputs": [
    {
     "data": {
      "text/html": [
       "<div>\n",
       "<style scoped>\n",
       "    .dataframe tbody tr th:only-of-type {\n",
       "        vertical-align: middle;\n",
       "    }\n",
       "\n",
       "    .dataframe tbody tr th {\n",
       "        vertical-align: top;\n",
       "    }\n",
       "\n",
       "    .dataframe thead th {\n",
       "        text-align: right;\n",
       "    }\n",
       "</style>\n",
       "<table border=\"1\" class=\"dataframe\">\n",
       "  <thead>\n",
       "    <tr style=\"text-align: right;\">\n",
       "      <th></th>\n",
       "      <th>cookie</th>\n",
       "      <th>channel</th>\n",
       "      <th>conversion</th>\n",
       "      <th>path</th>\n",
       "    </tr>\n",
       "  </thead>\n",
       "  <tbody>\n",
       "    <tr>\n",
       "      <th>0</th>\n",
       "      <td>00000FkCnDfDDf0iC97iC703B</td>\n",
       "      <td>[Instagram, Online Display]</td>\n",
       "      <td>0</td>\n",
       "      <td>Instagram&gt;&gt;&gt;Online Display</td>\n",
       "    </tr>\n",
       "    <tr>\n",
       "      <th>1</th>\n",
       "      <td>0000nACkD9nFkBBDECD3ki00E</td>\n",
       "      <td>[Paid Search]</td>\n",
       "      <td>0</td>\n",
       "      <td>Paid Search</td>\n",
       "    </tr>\n",
       "    <tr>\n",
       "      <th>2</th>\n",
       "      <td>0003EfE37E93D0BC03iBhBBhF</td>\n",
       "      <td>[Paid Search]</td>\n",
       "      <td>0</td>\n",
       "      <td>Paid Search</td>\n",
       "    </tr>\n",
       "    <tr>\n",
       "      <th>3</th>\n",
       "      <td>00073CFE3FoFCn70fBhB3kfon</td>\n",
       "      <td>[Instagram]</td>\n",
       "      <td>0</td>\n",
       "      <td>Instagram</td>\n",
       "    </tr>\n",
       "    <tr>\n",
       "      <th>4</th>\n",
       "      <td>00079hhBkDF3k3kDkiFi9EFAD</td>\n",
       "      <td>[Paid Search]</td>\n",
       "      <td>0</td>\n",
       "      <td>Paid Search</td>\n",
       "    </tr>\n",
       "  </tbody>\n",
       "</table>\n",
       "</div>"
      ],
      "text/plain": [
       "                      cookie                      channel  conversion  \\\n",
       "0  00000FkCnDfDDf0iC97iC703B  [Instagram, Online Display]           0   \n",
       "1  0000nACkD9nFkBBDECD3ki00E                [Paid Search]           0   \n",
       "2  0003EfE37E93D0BC03iBhBBhF                [Paid Search]           0   \n",
       "3  00073CFE3FoFCn70fBhB3kfon                  [Instagram]           0   \n",
       "4  00079hhBkDF3k3kDkiFi9EFAD                [Paid Search]           0   \n",
       "\n",
       "                         path  \n",
       "0  Instagram>>>Online Display  \n",
       "1                 Paid Search  \n",
       "2                 Paid Search  \n",
       "3                   Instagram  \n",
       "4                 Paid Search  "
      ]
     },
     "execution_count": 82,
     "metadata": {},
     "output_type": "execute_result"
    }
   ],
   "source": [
    "processed.head()"
   ]
  },
  {
   "cell_type": "code",
   "execution_count": 83,
   "metadata": {},
   "outputs": [],
   "source": [
    "processed_data = processed.groupby('path',as_index = False).agg({'conversion':'sum'})"
   ]
  },
  {
   "cell_type": "code",
   "execution_count": 84,
   "metadata": {},
   "outputs": [
    {
     "data": {
      "text/html": [
       "<div>\n",
       "<style scoped>\n",
       "    .dataframe tbody tr th:only-of-type {\n",
       "        vertical-align: middle;\n",
       "    }\n",
       "\n",
       "    .dataframe tbody tr th {\n",
       "        vertical-align: top;\n",
       "    }\n",
       "\n",
       "    .dataframe thead th {\n",
       "        text-align: right;\n",
       "    }\n",
       "</style>\n",
       "<table border=\"1\" class=\"dataframe\">\n",
       "  <thead>\n",
       "    <tr style=\"text-align: right;\">\n",
       "      <th></th>\n",
       "      <th>path</th>\n",
       "      <th>conversion</th>\n",
       "    </tr>\n",
       "  </thead>\n",
       "  <tbody>\n",
       "    <tr>\n",
       "      <th>0</th>\n",
       "      <td>Facebook</td>\n",
       "      <td>3001</td>\n",
       "    </tr>\n",
       "    <tr>\n",
       "      <th>1</th>\n",
       "      <td>Facebook&gt;&gt;&gt;Instagram</td>\n",
       "      <td>1345</td>\n",
       "    </tr>\n",
       "    <tr>\n",
       "      <th>2</th>\n",
       "      <td>Facebook&gt;&gt;&gt;Instagram&gt;&gt;&gt;Online Display</td>\n",
       "      <td>36</td>\n",
       "    </tr>\n",
       "    <tr>\n",
       "      <th>3</th>\n",
       "      <td>Facebook&gt;&gt;&gt;Instagram&gt;&gt;&gt;Online Display&gt;&gt;&gt;Online...</td>\n",
       "      <td>2</td>\n",
       "    </tr>\n",
       "    <tr>\n",
       "      <th>4</th>\n",
       "      <td>Facebook&gt;&gt;&gt;Instagram&gt;&gt;&gt;Online Display&gt;&gt;&gt;Online...</td>\n",
       "      <td>0</td>\n",
       "    </tr>\n",
       "  </tbody>\n",
       "</table>\n",
       "</div>"
      ],
      "text/plain": [
       "                                                path  conversion\n",
       "0                                           Facebook        3001\n",
       "1                               Facebook>>>Instagram        1345\n",
       "2              Facebook>>>Instagram>>>Online Display          36\n",
       "3  Facebook>>>Instagram>>>Online Display>>>Online...           2\n",
       "4  Facebook>>>Instagram>>>Online Display>>>Online...           0"
      ]
     },
     "execution_count": 84,
     "metadata": {},
     "output_type": "execute_result"
    }
   ],
   "source": [
    "processed_data.head()"
   ]
  },
  {
   "cell_type": "code",
   "execution_count": 85,
   "metadata": {},
   "outputs": [],
   "source": [
    "def power_set(List):\n",
    "    PS = [list(j) for i in range(len(List)) for j in itertools.combinations(List, i+1)]\n",
    "    return PS"
   ]
  },
  {
   "cell_type": "code",
   "execution_count": 86,
   "metadata": {},
   "outputs": [],
   "source": [
    "def subsets(s):\n",
    "    '''\n",
    "    This function returns all the possible subsets of a set of channels.\n",
    "    input :\n",
    "            - s: a set of channels.\n",
    "    '''\n",
    "    if len(s)==1:\n",
    "        return s\n",
    "    else:\n",
    "        sub_channels=[]\n",
    "        for i in range(1,len(s)+1):\n",
    "            sub_channels.extend(map(list,itertools.combinations(s, i)))\n",
    "    return list(map(\">>>\".join,map(sorted,sub_channels)))\n",
    "\n",
    "def v_function(A,C_values):\n",
    "    '''\n",
    "    This function computes the worth of each coalition.\n",
    "    inputs:\n",
    "            - A : a coalition of channels.\n",
    "            - C_values : A dictionnary containing the number of conversions that each subset of channels has yielded.\n",
    "    '''\n",
    "    subsets_of_A = subsets(A)\n",
    "    #print(subsets_of_A)\n",
    "    #exit()\n",
    "    worth_of_A=0\n",
    "    for subset in subsets_of_A:\n",
    "        #print(\"subset:\", subset)\n",
    "        if subset in C_values:\n",
    "            #print(\"subset:\", subset, \"; Value:\", C_values[subset])\n",
    "            worth_of_A += C_values[subset]\n",
    "    return worth_of_A\n",
    "\n",
    "def factorial(n):\n",
    "    if n == 0:\n",
    "        return 1\n",
    "    else:\n",
    "        return n * factorial(n-1)\n",
    "\n",
    "\n",
    "def calculate_shapley(df, col_name):\n",
    "    '''\n",
    "    This function returns the shapley values\n",
    "            - df: A dataframe with the two columns: ['path', 'conversion'].\n",
    "            The channel_subset column is the channel(s) associated with the conversion and the count is the sum of the conversions. \n",
    "            - col_name: A string that is the name of the column with conversions          \n",
    "    '''\n",
    "    c_values = df.set_index(\"path\").to_dict()[col_name]\n",
    "    df['channels'] = df['path'].apply(lambda x: x if len(x.split(\">>>\")) == 1 else np.nan)\n",
    "    channels = list(df['channels'].dropna().unique())\n",
    "    \n",
    "    v_values = {}\n",
    "    for A in power_set(channels):\n",
    "        v_values['>>>'.join(sorted(A))] = v_function(A,c_values)\n",
    "    #print(v_values)\n",
    "    n=len(channels)\n",
    "    shapley_values = defaultdict(int)\n",
    "    for channel in channels:\n",
    "        for A in v_values.keys():\n",
    "            #print(A)\n",
    "            if channel not in A.split(\">>>\"):\n",
    "                #print(channel)\n",
    "                cardinal_A=len(A.split(\">>>\"))\n",
    "                A_with_channel = A.split(\">>>\")\n",
    "                A_with_channel.append(channel)            \n",
    "                A_with_channel=\">>>\".join(sorted(A_with_channel))\n",
    "                # Weight = |S|!(n-|S|-1)!/n!\n",
    "                weight = (factorial(cardinal_A)*factorial(n-cardinal_A-1)/factorial(n))\n",
    "                # Marginal contribution = v(S U {i})-v(S)\n",
    "                contrib = (v_values[A_with_channel]-v_values[A]) \n",
    "                shapley_values[channel] += weight * contrib\n",
    "        # Add the term corresponding to the empty set\n",
    "        shapley_values[channel]+= v_values[channel]/n \n",
    "\n",
    "    return shapley_values"
   ]
  },
  {
   "cell_type": "code",
   "execution_count": 87,
   "metadata": {},
   "outputs": [],
   "source": [
    "shapley_values = calculate_shapley(processed_data,'conversion')"
   ]
  },
  {
   "cell_type": "code",
   "execution_count": 88,
   "metadata": {},
   "outputs": [
    {
     "data": {
      "text/plain": [
       "defaultdict(int,\n",
       "            {'Facebook': 3956.916666666667,\n",
       "             'Instagram': 1834.0,\n",
       "             'Online Display': 1811.5833333333335,\n",
       "             'Online Video': 2854.916666666667,\n",
       "             'Paid Search': 4144.583333333333})"
      ]
     },
     "execution_count": 88,
     "metadata": {},
     "output_type": "execute_result"
    }
   ],
   "source": [
    "shapley_values"
   ]
  },
  {
   "cell_type": "code",
   "execution_count": null,
   "metadata": {},
   "outputs": [],
   "source": []
  }
 ],
 "metadata": {
  "kernelspec": {
   "display_name": "Python 3",
   "language": "python",
   "name": "python3"
  },
  "language_info": {
   "codemirror_mode": {
    "name": "ipython",
    "version": 3
   },
   "file_extension": ".py",
   "mimetype": "text/x-python",
   "name": "python",
   "nbconvert_exporter": "python",
   "pygments_lexer": "ipython3",
   "version": "3.7.4"
  }
 },
 "nbformat": 4,
 "nbformat_minor": 2
}
